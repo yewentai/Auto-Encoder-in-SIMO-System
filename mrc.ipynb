{
 "cells": [
  {
   "cell_type": "code",
   "execution_count": 1,
   "metadata": {},
   "outputs": [],
   "source": [
    "import numpy as np\n",
    "\n",
    "\n",
    "def additive_white_gaussian_noise_channel(\n",
    "    x, n_rx=4, attenuation=0.95, noise_power=1e-5\n",
    "):\n",
    "    \"\"\"\n",
    "    Add AWGN to a signal\n",
    "\n",
    "    Parameters:\n",
    "    - x: Signal\n",
    "    - n_rx: Number of receive antennas\n",
    "    - attenuation: Channel attenuation\n",
    "    - noise_power: Noise power\n",
    "\n",
    "    Returns:\n",
    "    - y: Signal with AWGN\n",
    "    \"\"\"\n",
    "\n",
    "    w = np.sqrt(noise_power / 2) * (\n",
    "        np.random.normal(0, 1, n_rx) + 1j * np.random.normal(0, 1, n_rx)\n",
    "    )\n",
    "\n",
    "    y = attenuation * x + w\n",
    "\n",
    "    return y\n",
    "\n",
    "\n",
    "def line_of_sight_simo_channel(\n",
    "    x,\n",
    "    n_rx=4,\n",
    "    delta_r=0.5,\n",
    "    distance=3,\n",
    "    wavelength=0.1,\n",
    "    phi=0.1,\n",
    "    attenuation=0.95,\n",
    "    noise_power=1e-5,\n",
    "):\n",
    "    \"\"\"\n",
    "    Simulate a line-of-sight SIMO channel\n",
    "\n",
    "    Parameters:\n",
    "    - x: Transmitted symbol\n",
    "    - n_rx: Number of receive antennas\n",
    "    - delta_r: Normalized receive antenna separation\n",
    "    - distance: Distance from transmit antenna to the first receive antenna (in meters)\n",
    "    - wavelength: Wavelength (in meters)\n",
    "    - phi: Angle of incidence of the line-of-sight onto the receive antenna array\n",
    "    - attenuation: Channel attenuation\n",
    "    - noise_power: Noise power\n",
    "\n",
    "    Returns:\n",
    "    - y: Received symbol\n",
    "    - h: Channel spatial signature\n",
    "\n",
    "    Reference:\n",
    "    - [1] Manikas, A. (2019). Modelling of SIMO, MISO, and MIMO Antenna Array. Lecture slides presented in EE401: Advanced Communication Theory at Imperial College London.\n",
    "\n",
    "    \"\"\"\n",
    "\n",
    "    c = 3e8  # Speed of light\n",
    "\n",
    "    # Calculate spatial signature\n",
    "    omega = np.cos(phi)\n",
    "    h = (\n",
    "        attenuation\n",
    "        * np.exp(-1j * 2 * np.pi * distance / wavelength)\n",
    "        * np.exp(-1j * 2 * np.pi * np.arange(n_rx) * delta_r * omega)\n",
    "    )\n",
    "\n",
    "    w = np.sqrt(noise_power / 2) * (\n",
    "        np.random.normal(0, 1, n_rx) + 1j * np.random.normal(0, 1, n_rx)\n",
    "    )\n",
    "\n",
    "    y = h * x + w\n",
    "\n",
    "    return y, h\n"
   ]
  },
  {
   "cell_type": "code",
   "execution_count": 2,
   "metadata": {},
   "outputs": [],
   "source": [
    "import numpy as np\n",
    "\n",
    "\n",
    "def mrc_receiver(received_signal, channel_gains):\n",
    "    \"\"\"\n",
    "    Maximum Ratio Combining (MRC) receiver\n",
    "\n",
    "    Parameters:\n",
    "    - received_signal: Received symbol vector\n",
    "    - channel_gains: Channel gains vector\n",
    "\n",
    "    Returns:\n",
    "    - decoded_symbol: Decoded symbol\n",
    "    \"\"\"\n",
    "\n",
    "    mrc_weights = (\n",
    "        np.conj(channel_gains) / np.linalg.norm(channel_gains) / 2\n",
    "    )  # MRC weights\n",
    "\n",
    "    decoded_symbol = np.dot(mrc_weights, received_signal)\n",
    "\n",
    "    return decoded_symbol\n"
   ]
  },
  {
   "cell_type": "code",
   "execution_count": 3,
   "metadata": {},
   "outputs": [],
   "source": [
    "# Simulation parameters\n",
    "n_rx = 4                # Number of receive antennas\n",
    "delta_r = 0.5           # Normalized receive antenna separation (in wavelengths)\n",
    "distance = 3            # Distance from transmit antenna to the first receive antenna (in meters)\n",
    "phi = 0.1              # Angle of incidence of the line-of-sight onto the receive antenna array\n",
    "fc = 2e9                # Carrier frequency (in Hertz)\n",
    "c = 3e8                 # Speed of light (in meters per second)\n",
    "wavelength = c / fc     # Wavelength (in meters)\n",
    "attenuation = 0.95       # Channel attenuation\n",
    "symbol = np.random.normal(0, 1) + 1j * np.random.normal(0, 1)  # Transmitted symbol\n",
    "noise_power = 1e-5      # Noise power\n",
    "\n",
    "# Simulate SIMO channel\n",
    "y,h = line_of_sight_simo_channel(symbol, n_rx, delta_r, distance, wavelength, phi, attenuation, noise_power)"
   ]
  },
  {
   "cell_type": "code",
   "execution_count": 4,
   "metadata": {},
   "outputs": [
    {
     "name": "stdout",
     "output_type": "stream",
     "text": [
      "Transmitted Symbol: (0.8726602061615796+0.021186989389398458j)\n",
      "Received Symbol after MRC: (0.8284408422351071+0.022541528297661005j)\n"
     ]
    }
   ],
   "source": [
    "# Use the MRC receiver on the simulated SIMO channel\n",
    "decoded_symbol = mrc_receiver(y, h)\n",
    "\n",
    "# Print results\n",
    "print(\"Transmitted Symbol:\", symbol)\n",
    "print(\"Received Symbol after MRC:\", decoded_symbol)"
   ]
  },
  {
   "cell_type": "code",
   "execution_count": 5,
   "metadata": {},
   "outputs": [
    {
     "name": "stdout",
     "output_type": "stream",
     "text": [
      "Transmitted Symbol: (0.8726602061615796+0.021186989389398458j)\n",
      "Received Symbol after MRC: (0.8284408422351071+0.022541528297661005j)\n"
     ]
    }
   ],
   "source": [
    "# Use the MRC receiver on the simulated SIMO channel\n",
    "decoded_symbol = mrc_receiver(y, h)\n",
    "\n",
    "# Print results\n",
    "print(\"Transmitted Symbol:\", symbol)\n",
    "print(\"Received Symbol after MRC:\", decoded_symbol)"
   ]
  },
  {
   "cell_type": "code",
   "execution_count": 6,
   "metadata": {},
   "outputs": [
    {
     "data": {
      "image/png": "[encoded data removed]",
      "text/plain": [
       "<Figure size 640x480 with 1 Axes>"
      ]
     },
     "metadata": {},
     "output_type": "display_data"
    }
   ],
   "source": [
    "# Plot y and decoded_symbol on the complex plane\n",
    "import matplotlib.pyplot as plt\n",
    "plt.scatter(np.real(symbol), np.imag(symbol), label='transmitted symbol')\n",
    "plt.scatter(np.real(y), np.imag(y), label='received symbol')\n",
    "plt.scatter(np.real(decoded_symbol), np.imag(decoded_symbol), label='decoded symbol')\n",
    "plt.legend()\n",
    "plt.xlabel('Real')\n",
    "plt.ylabel('Imaginary')\n",
    "plt.show()"
   ]
  }
 ],
 "metadata": {
  "kernelspec": {
   "display_name": "base",
   "language": "python",
   "name": "python3"
  },
  "language_info": {
   "codemirror_mode": {
    "name": "ipython",
    "version": 3
   },
   "file_extension": ".py",
   "mimetype": "text/x-python",
   "name": "python",
   "nbconvert_exporter": "python",
   "pygments_lexer": "ipython3",
   "version": "3.10.10"
  }
 },
 "nbformat": 4,
 "nbformat_minor": 2
}
