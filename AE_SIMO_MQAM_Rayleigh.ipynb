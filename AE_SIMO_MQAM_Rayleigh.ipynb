{
  "cells": [
    {
      "cell_type": "code",
      "execution_count": 1,
      "metadata": {
        "colab": {
          "base_uri": "https://localhost:8080/"
        },
        "id": "a7unTPLL7VEC",
        "outputId": "e4369ce7-071b-49ca-c5d6-e96fbed1aebe"
      },
      "outputs": [
        {
          "name": "stdout",
          "output_type": "stream",
          "text": [
            "cpu\n"
          ]
        }
      ],
      "source": [
        "import numpy as np\n",
        "import torch\n",
        "import torch.nn.functional as F\n",
        "import torch.nn as nn\n",
        "from scipy.special import erfc\n",
        "import matplotlib.pyplot as plt\n",
        "from keras.utils import to_categorical\n",
        "from torch.optim import SGD, Adam\n",
        "from tqdm import tqdm\n",
        "from utils import Encoder, Decoder, awgn\n",
        "\n",
        "device = \"cuda\" if torch.cuda.is_available() else \"cpu\"\n",
        "print(device)"
      ]
    },
    {
      "cell_type": "code",
      "execution_count": 3,
      "metadata": {
        "id": "A3ra51HH71gr"
      },
      "outputs": [],
      "source": [
        "M = 16 # number of constellation points\n",
        "flag_train_model = False # True: train model, False: load pre-trained model\n",
        "Path = \"./models/ae_simo_rayleigh_16qam.pth\"\n",
        "encoder = Encoder([M, 64, 64, 64, 2]).to(device)\n",
        "decoder = Decoder([8, 512, 512, 512, M]).to(device)"
      ]
    },
    {
      "cell_type": "code",
      "execution_count": 4,
      "metadata": {
        "colab": {
          "base_uri": "https://localhost:8080/",
          "height": 483
        },
        "id": "UqoFhXYh8RUU",
        "outputId": "2e523a78-4d9d-4c46-d3f5-749c2491081d"
      },
      "outputs": [],
      "source": [
        "if flag_train_model:\n",
        "    train_snr = 15 # training SNR in dB\n",
        "    criterion = nn.NLLLoss()     # negative log likelihood loss\n",
        "    para = list(encoder.parameters()) + list(decoder.parameters())  # get all parameters\n",
        "    opt = Adam(para, lr=0.01)\n",
        "    loss = []  # store the loss value\n",
        "    totEpoch = int(1e4)  # total number of epochs\n",
        "    iteration = tqdm(range(totEpoch), desc=\"loss\")\n",
        "\n",
        "    for iterator in iteration:\n",
        "        iteration.set_description(\"epoch={:}\".format(iterator))\n",
        "        messages = torch.randint(0, M, size=(51200,), device=device)  # generate\n",
        "        one_hot = F.one_hot(messages, M).float()  # convert to one hot encoding shape=(16000, M)\n",
        "        tx =encoder(one_hot)\n",
        "\n",
        "        ch_real1 = torch.randn(tx.shape[0]).to(device)\n",
        "        ch_imag1 = torch.randn(tx.shape[0]).to(device)\n",
        "        ch_real2 = torch.randn(tx.shape[0]).to(device)\n",
        "        ch_imag2 = torch.randn(tx.shape[0]).to(device)\n",
        "        csi = torch.stack((ch_real1, ch_imag1, ch_real2, ch_imag2), dim=1)\n",
        "\n",
        "        rx_real1 = torch.mul(ch_real1, tx[:, 0]) - torch.mul(ch_imag1, tx[:, 1])\n",
        "        rx_imag1 = torch.mul(ch_imag1, tx[:, 0]) + torch.mul(ch_real1, tx[:, 1])\n",
        "        rx_real2 = torch.mul(ch_real2, tx[:, 0]) - torch.mul(ch_imag2, tx[:, 1])\n",
        "        rx_imag2 = torch.mul(ch_imag2, tx[:, 0]) + torch.mul(ch_real2, tx[:, 1])\n",
        "\n",
        "        rx = torch.stack((rx_real1, rx_imag1, rx_real2, rx_imag2), dim=1)\n",
        "\n",
        "        rx = awgn(rx, train_snr)\n",
        "\n",
        "        rx = torch.cat((rx, csi), dim=1)\n",
        "\n",
        "        y_pred = decoder(rx)\n",
        "\n",
        "        cross_entropy = criterion(y_pred, messages)\n",
        "\n",
        "        opt.zero_grad()\n",
        "        cross_entropy.backward()\n",
        "        opt.step()\n",
        "\n",
        "        loss.append(cross_entropy.item())\n",
        "\n",
        "\n",
        "    # plot the loss\n",
        "    plt.figure()\n",
        "    plt.plot(loss)\n",
        "    plt.xlabel(\"Epoch\")\n",
        "    plt.ylabel(\"Loss\")\n",
        "    plt.show()\n",
        "\n",
        "    # save the model\n",
        "    torch.save({\n",
        "            'Encoder': encoder.state_dict(),\n",
        "            'Decoder': decoder.state_dict(),\n",
        "            }, Path)\n",
        "    print(\"Model saved\")\n",
        "\n"
      ]
    },
    {
      "cell_type": "code",
      "execution_count": 5,
      "metadata": {
        "colab": {
          "base_uri": "https://localhost:8080/",
          "height": 789
        },
        "id": "bQHIF7F3y_eA",
        "outputId": "c8a4f9bc-127e-4371-993c-b9fefdc4ac9c"
      },
      "outputs": [
        {
          "name": "stdout",
          "output_type": "stream",
          "text": [
            "SNR:  0 SER:  0.9382832646369934\n",
            "SNR:  1 SER:  0.9382344484329224\n",
            "SNR:  2 SER:  0.9375696778297424\n",
            "SNR:  3 SER:  0.9381946921348572\n",
            "SNR:  4 SER:  0.9376950860023499\n",
            "SNR:  5 SER:  0.9379886388778687\n",
            "SNR:  6 SER:  0.9373049139976501\n",
            "SNR:  7 SER:  0.937886118888855\n",
            "SNR:  8 SER:  0.9381290078163147\n",
            "SNR:  9 SER:  0.9380434155464172\n",
            "SNR:  10 SER:  0.9382284879684448\n",
            "SNR:  11 SER:  0.9378065466880798\n",
            "SNR:  12 SER:  0.9375179409980774\n",
            "SNR:  13 SER:  0.9376890659332275\n",
            "SNR:  14 SER:  0.9382623434066772\n",
            "SNR:  15 SER:  0.937974750995636\n",
            "SNR:  16 SER:  0.9380801916122437\n",
            "SNR:  17 SER:  0.9379319548606873\n",
            "SNR:  18 SER:  0.9377129673957825\n",
            "SNR:  19 SER:  0.938396692276001\n"
          ]
        },
        {
          "ename": "RuntimeError",
          "evalue": "The size of tensor a (16) must match the size of tensor b (2) at non-singleton dimension 1",
          "output_type": "error",
          "traceback": [
            "\u001b[0;31m---------------------------------------------------------------------------\u001b[0m",
            "\u001b[0;31mRuntimeError\u001b[0m                              Traceback (most recent call last)",
            "Cell \u001b[0;32mIn[5], line 58\u001b[0m\n\u001b[1;32m     56\u001b[0m     rx \u001b[38;5;241m=\u001b[39m awgn(rx, snr)\n\u001b[1;32m     57\u001b[0m     \u001b[38;5;66;03m# Combine received signals using MRC\u001b[39;00m\n\u001b[0;32m---> 58\u001b[0m     rx_combined \u001b[38;5;241m+\u001b[39m\u001b[38;5;241m=\u001b[39m rx \u001b[38;5;241m/\u001b[39m (ch_real \u001b[38;5;241m*\u001b[39m\u001b[38;5;241m*\u001b[39m \u001b[38;5;241m2\u001b[39m \u001b[38;5;241m+\u001b[39m ch_imag \u001b[38;5;241m*\u001b[39m\u001b[38;5;241m*\u001b[39m \u001b[38;5;241m2\u001b[39m)\u001b[38;5;241m.\u001b[39munsqueeze(\u001b[38;5;241m1\u001b[39m)  \u001b[38;5;66;03m# MRC combining\u001b[39;00m\n\u001b[1;32m     59\u001b[0m \u001b[38;5;66;03m# Add channel state information (CSI) to the combined received signal\u001b[39;00m\n\u001b[1;32m     60\u001b[0m rx_combined \u001b[38;5;241m=\u001b[39m torch\u001b[38;5;241m.\u001b[39mcat((rx_combined, csi), dim\u001b[38;5;241m=\u001b[39m\u001b[38;5;241m1\u001b[39m)\n",
            "\u001b[0;31mRuntimeError\u001b[0m: The size of tensor a (16) must match the size of tensor b (2) at non-singleton dimension 1"
          ]
        }
      ],
      "source": [
        "SNR_dB = np.arange(0, 20, 1)\n",
        "\n",
        "# Monte Carlo simulation of the SER for the trained model\n",
        "SER = np.array([])\n",
        "for snr in SNR_dB:\n",
        "    num_mess = 6400  # number of messages to test\n",
        "    minErr = 1  # minimum number of errors\n",
        "    minSym = 1e6  # minimum number of symbols\n",
        "    totSym = 0  # total number of symbols\n",
        "    totErr = 0  # total number of errors\n",
        "    while totErr < minErr or totSym < minSym:\n",
        "        messages = torch.randint(0, M, size=(num_mess,)).to(device)\n",
        "        one_hot = F.one_hot(messages).float()\n",
        "        tx = encoder(one_hot)\n",
        "        ch_real1 = torch.randn(tx.shape[0]).to(device)\n",
        "        ch_imag1 = torch.randn(tx.shape[0]).to(device)\n",
        "        ch_real2 = torch.randn(tx.shape[0]).to(device)\n",
        "        ch_imag2 = torch.randn(tx.shape[0]).to(device)\n",
        "        csi = torch.stack((ch_real1, ch_imag1, ch_real2, ch_imag2), dim=1)\n",
        "        rx_real1 = torch.mul(ch_real1, tx[:, 0]) - torch.mul(ch_imag1, tx[:, 1])\n",
        "        rx_imag1 = torch.mul(ch_imag1, tx[:, 0]) + torch.mul(ch_real1, tx[:, 1])\n",
        "        rx_real2 = torch.mul(ch_real2, tx[:, 0]) - torch.mul(ch_imag2, tx[:, 1])\n",
        "        rx_imag2 = torch.mul(ch_imag2, tx[:, 0]) + torch.mul(ch_real2, tx[:, 1])\n",
        "        rx = torch.stack((rx_real1, rx_imag1, rx_real2, rx_imag2), dim=1)\n",
        "        rx = awgn(rx, snr)\n",
        "        rx = torch.cat((rx, csi), dim=1)\n",
        "        y_pred = decoder(rx)\n",
        "        pred = torch.argmax(y_pred, 1)\n",
        "        err = (pred != messages).sum()\n",
        "        totErr += err.cpu()\n",
        "        totSym += num_mess\n",
        "    SER = np.append(SER, totErr / totSym)\n",
        "    print(\"SNR: \", snr, \"SER: \", SER[-1])\n",
        "\n",
        "# Monte Carlo simulation of the SER for the Maximum Ratio Combining (MRC) receiver\n",
        "SER_mrc = np.array([])\n",
        "for snr in SNR_dB:\n",
        "    num_mess = 6400  # number of messages to test\n",
        "    minErr = 1  # minimum number of errors\n",
        "    minSym = 1e6  # minimum number of symbols\n",
        "    totSym = 0  # total number of symbols\n",
        "    totErr = 0  # total number of errors\n",
        "    while totErr < minErr or totSym < minSym:\n",
        "        messages = torch.randint(0, M, size=(num_mess,)).to(device)\n",
        "        one_hot = F.one_hot(messages).float()\n",
        "        tx = encoder(one_hot)\n",
        "        ch_real1 = torch.randn(tx.shape[0]).to(device)\n",
        "        ch_imag1 = torch.randn(tx.shape[0]).to(device)\n",
        "        ch_real2 = torch.randn(tx.shape[0]).to(device)\n",
        "        ch_imag2 = torch.randn(tx.shape[0]).to(device)\n",
        "        csi = torch.stack((ch_real1, ch_imag1, ch_real2, ch_imag2), dim=1)\n",
        "        rx_real1 = torch.mul(ch_real1, tx[:, 0]) - torch.mul(ch_imag1, tx[:, 1])\n",
        "        rx_imag1 = torch.mul(ch_imag1, tx[:, 0]) + torch.mul(ch_real1, tx[:, 1])\n",
        "        rx_real2 = torch.mul(ch_real2, tx[:, 0]) - torch.mul(ch_imag2, tx[:, 1])\n",
        "        rx_imag2 = torch.mul(ch_imag2, tx[:, 0]) + torch.mul(ch_real2, tx[:, 1])\n",
        "        rx = torch.stack((rx_real1, rx_imag1, rx_real2, rx_imag2), dim=1)\n",
        "        rx = awgn(rx, snr)\n",
        "        rx = torch.cat((rx, csi), dim=1)\n",
        "        rx = rx[:, 0:2] + rx[:, 2:4]\n",
        "        pred = torch.argmin((rx[:, 0:2] - M)**2, 1)\n",
        "        err = (pred != messages).sum()\n",
        "        totErr += err.cpu()\n",
        "        totSym += num_mess\n",
        "    SER_mrc = np.append(SER_mrc, totErr / totSym)\n",
        "    print(\"SNR: \", snr, \"SER MRC: \", SER_mrc[-1])\n",
        "\n",
        "\n",
        "plt.figure()\n",
        "plt.plot(SNR_dB, SER, \"o-\")\n",
        "plt.yscale(\"log\")\n",
        "plt.xlabel(\"SNR (dB)\")\n",
        "plt.ylabel(\"SER\")\n",
        "plt.grid()"
      ]
    },
    {
      "cell_type": "code",
      "execution_count": null,
      "metadata": {
        "colab": {
          "base_uri": "https://localhost:8080/",
          "height": 507
        },
        "id": "qmt22BOyzUKr",
        "outputId": "cddb2ec1-336d-4f64-aab8-06b248b8bba4"
      },
      "outputs": [
        {
          "data": {
            "image/png": "[encoded data removed]",
            "text/plain": [
              "<Figure size 1000x500 with 2 Axes>"
            ]
          },
          "metadata": {},
          "output_type": "display_data"
        }
      ],
      "source": [
        "# Generate transmitted symbols using the encoder\n",
        "num_mess = 6400  # number of messages to test\n",
        "messages = torch.randint(0, M, size=(num_mess,)).to(device)\n",
        "one_hot = F.one_hot(messages).float()\n",
        "tx = encoder(one_hot)\n",
        "tx = tx.to(\"cpu\").detach().numpy()\n",
        "\n",
        "# Define the coordinates for 16-QAM constellation points\n",
        "points_I = np.array([1, 1, 1, 1, -1, -1, -1, -1, 3, 3, 3, 3, -3, -3, -3, -3]) / np.sqrt(10)\n",
        "points_Q = np.array([3, 1, -1, -3, 3, 1, -1, -3, 3, 1, -1, -3, 3, 1, -1, -3]) / np.sqrt(10)\n",
        "\n",
        "# Plot both constellations\n",
        "plt.figure(figsize=(10, 5))\n",
        "\n",
        "# Plot transmitted symbols\n",
        "plt.subplot(1, 2, 1)\n",
        "plt.scatter(tx[:, 0], tx[:, 1])\n",
        "plt.xlabel(\"I\")\n",
        "plt.ylabel(\"Q\")\n",
        "plt.title(\"Transmitted Constellation\")\n",
        "plt.grid(True)\n",
        "\n",
        "# Plot standard 16-QAM constellation\n",
        "plt.subplot(1, 2, 2)\n",
        "plt.scatter(points_I, points_Q, c=\"r\")\n",
        "plt.xlabel(\"I\")\n",
        "plt.ylabel(\"Q\")\n",
        "plt.title(\"Standard 16-QAM Constellation\")\n",
        "plt.grid(True)\n",
        "\n",
        "plt.tight_layout()\n",
        "plt.show()"
      ]
    }
  ],
  "metadata": {
    "accelerator": "GPU",
    "colab": {
      "gpuType": "A100",
      "machine_shape": "hm",
      "provenance": []
    },
    "kernelspec": {
      "display_name": "Python 3",
      "name": "python3"
    },
    "language_info": {
      "codemirror_mode": {
        "name": "ipython",
        "version": 3
      },
      "file_extension": ".py",
      "mimetype": "text/x-python",
      "name": "python",
      "nbconvert_exporter": "python",
      "pygments_lexer": "ipython3",
      "version": "3.10.10"
    }
  },
  "nbformat": 4,
  "nbformat_minor": 0
}
