{
  "nbformat": 4,
  "nbformat_minor": 0,
  "metadata": {
    "colab": {
      "provenance": [],
      "machine_shape": "hm",
      "gpuType": "A100",
      "mount_file_id": "13jl8gbjz882XTlumAdp13FtqB8SpKtyi",
      "authorship_tag": "ABX9TyN7ScgtYwpuquXxxAfO3G3x",
      "include_colab_link": true
    },
    "kernelspec": {
      "name": "python3",
      "display_name": "Python 3"
    },
    "language_info": {
      "name": "python"
    },
    "accelerator": "GPU"
  },
  "cells": [
    {
      "cell_type": "markdown",
      "metadata": {
        "id": "view-in-github",
        "colab_type": "text"
      },
      "source": [
        "<a href=\"https://colab.research.google.com/github/yewentai/Auto-Encoder-in-MIMO-System/blob/main/Untitled0.ipynb\" target=\"_parent\"><img src=\"https://colab.research.google.com/assets/colab-badge.svg\" alt=\"Open In Colab\"/></a>"
      ]
    },
    {
      "cell_type": "code",
      "execution_count": 1,
      "metadata": {
        "colab": {
          "base_uri": "https://localhost:8080/"
        },
        "id": "a7unTPLL7VEC",
        "outputId": "e4369ce7-071b-49ca-c5d6-e96fbed1aebe"
      },
      "outputs": [
        {
          "output_type": "stream",
          "name": "stdout",
          "text": [
            "cuda\n"
          ]
        }
      ],
      "source": [
        "import numpy as np\n",
        "import torch\n",
        "import torch.nn.functional as F\n",
        "import torch.nn as nn\n",
        "from scipy.special import erfc\n",
        "import matplotlib.pyplot as plt\n",
        "from keras.utils import to_categorical\n",
        "from torch.optim import SGD, Adam\n",
        "from tqdm import tqdm\n",
        "\n",
        "device = \"cuda\" if torch.cuda.is_available() else \"cpu\"\n",
        "print(device)"
      ]
    },
    {
      "cell_type": "code",
      "source": [
        "class Encoder(nn.Module):\n",
        "    def __init__(self, dims):\n",
        "        super().__init__()\n",
        "        if len(dims) < 2:\n",
        "            raise ValueError(\"Inputs list has to be at least length:2\")\n",
        "\n",
        "        self.layers = nn.ModuleList()\n",
        "        for i in range(len(dims) - 1):\n",
        "            self.layers.append(nn.Linear(dims[i], dims[i + 1]))\n",
        "\n",
        "    def forward(self, x):\n",
        "        for i in range(len(self.layers) - 1):\n",
        "            x = F.relu(self.layers[i](x))\n",
        "        x = self.layers[-1](x)\n",
        "        x = x / torch.sqrt(2 * torch.mean(x**2))\n",
        "        return x\n",
        "\n",
        "\n",
        "class Decoder(nn.Module):\n",
        "    def __init__(self, dims):\n",
        "        super().__init__()\n",
        "        if len(dims) < 2:\n",
        "            raise ValueError(\"Inputs list has to be at least lenght:2\")\n",
        "        self.layers = nn.ModuleList()\n",
        "        for i in range(len(dims) - 1):\n",
        "            self.layers.append(nn.Linear(dims[i], dims[i + 1]))\n",
        "\n",
        "    def forward(self, x):\n",
        "        for i in range(len(self.layers) - 1):\n",
        "            x = F.relu(self.layers[i](x))\n",
        "\n",
        "        x = F.log_softmax(self.layers[-1](x), dim=-1)\n",
        "        return x\n",
        "\n",
        "\n",
        "def awgn(x, snr):\n",
        "    \"\"\"\n",
        "    Add AWGN noise to the input signal.\n",
        "\n",
        "    Parameters:\n",
        "    - x: Input signal.\n",
        "    - snr: Signal to Noise Ratio in dB.\n",
        "\n",
        "    Returns:\n",
        "    - x: Noisy signal.\n",
        "    \"\"\"\n",
        "\n",
        "    sigma = torch.tensor(np.sqrt(0.5 / (10 ** (snr / 10)))).to(device)\n",
        "    noise = sigma * torch.randn(x.shape).to(device)\n",
        "    x = x + noise\n",
        "    return x"
      ],
      "metadata": {
        "id": "a2gKFDu27-W0"
      },
      "execution_count": 2,
      "outputs": []
    },
    {
      "cell_type": "code",
      "source": [
        "M = 16 # number of constellation points\n",
        "flag_train_model = True # True: train model, False: load pre-trained model\n",
        "Path = \"./models/ae_simo_rayleigh_16qam.pth\"\n",
        "encoder = Encoder([M, 64, 64, 64, 2]).to(device)\n",
        "decoder = Decoder([8, 512, 512, 512, M]).to(device)"
      ],
      "metadata": {
        "id": "A3ra51HH71gr"
      },
      "execution_count": 3,
      "outputs": []
    },
    {
      "cell_type": "code",
      "source": [
        "if flag_train_model:\n",
        "    train_snr = 15 # training SNR in dB\n",
        "    criterion = nn.NLLLoss()     # negative log likelihood loss\n",
        "    para = list(encoder.parameters()) + list(decoder.parameters())  # get all parameters\n",
        "    opt = Adam(para, lr=0.01)\n",
        "    loss = []  # store the loss value\n",
        "    totEpoch = int(1e4)  # total number of epochs\n",
        "    iteration = tqdm(range(totEpoch), desc=\"loss\")\n",
        "\n",
        "    for iterator in iteration:\n",
        "        iteration.set_description(\"epoch={:}\".format(iterator))\n",
        "        messages = torch.randint(0, M, size=(51200,), device=device)  # generate\n",
        "        one_hot = F.one_hot(messages, M).float()  # convert to one hot encoding shape=(16000, M)\n",
        "        tx =encoder(one_hot)\n",
        "\n",
        "        ch_real1 = torch.randn(tx.shape[0]).to(device)\n",
        "        ch_imag1 = torch.randn(tx.shape[0]).to(device)\n",
        "        ch_real2 = torch.randn(tx.shape[0]).to(device)\n",
        "        ch_imag2 = torch.randn(tx.shape[0]).to(device)\n",
        "        csi = torch.stack((ch_real1, ch_imag1, ch_real2, ch_imag2), dim=1)\n",
        "\n",
        "        rx_real1 = torch.mul(ch_real1, tx[:, 0]) - torch.mul(ch_imag1, tx[:, 1])\n",
        "        rx_imag1 = torch.mul(ch_imag1, tx[:, 0]) + torch.mul(ch_real1, tx[:, 1])\n",
        "        rx_real2 = torch.mul(ch_real2, tx[:, 0]) - torch.mul(ch_imag2, tx[:, 1])\n",
        "        rx_imag2 = torch.mul(ch_imag2, tx[:, 0]) + torch.mul(ch_real2, tx[:, 1])\n",
        "\n",
        "        rx = torch.stack((rx_real1, rx_imag1, rx_real2, rx_imag2), dim=1)\n",
        "\n",
        "        rx = awgn(rx, train_snr)\n",
        "\n",
        "        rx = torch.cat((rx, csi), dim=1)\n",
        "\n",
        "        y_pred = decoder(rx)\n",
        "\n",
        "        cross_entropy = criterion(y_pred, messages)\n",
        "\n",
        "        opt.zero_grad()\n",
        "        cross_entropy.backward()\n",
        "        opt.step()\n",
        "\n",
        "        loss.append(cross_entropy.item())\n",
        "\n",
        "\n",
        "    # plot the loss\n",
        "    plt.figure()\n",
        "    plt.plot(loss)\n",
        "    plt.xlabel(\"Epoch\")\n",
        "    plt.ylabel(\"Loss\")\n",
        "    plt.show()\n",
        "\n",
        "    # save the model\n",
        "    torch.save({\n",
        "            'Encoder': encoder.state_dict(),\n",
        "            'Decoder': decoder.state_dict(),\n",
        "            }, Path)\n",
        "    print(\"Model saved\")\n",
        "\n"
      ],
      "metadata": {
        "colab": {
          "base_uri": "https://localhost:8080/",
          "height": 483
        },
        "id": "UqoFhXYh8RUU",
        "outputId": "2e523a78-4d9d-4c46-d3f5-749c2491081d"
      },
      "execution_count": 4,
      "outputs": [
        {
          "output_type": "stream",
          "name": "stderr",
          "text": [
            "epoch=9999: 100%|██████████| 10000/10000 [03:22<00:00, 49.42it/s]\n"
          ]
        },
        {
          "output_type": "display_data",
          "data": {
            "text/plain": [
              "<Figure size 640x480 with 1 Axes>"
            ],
            "image/png": "[encoded data removed]"
          },
          "metadata": {}
        },
        {
          "output_type": "stream",
          "name": "stdout",
          "text": [
            "Model saved\n"
          ]
        }
      ]
    }
  ]
}