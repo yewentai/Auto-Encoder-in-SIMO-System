{
    "cells": [
        {
            "cell_type": "code",
            "execution_count": 1,
            "metadata": {},
            "outputs": [],
            "source": [
                "import numpy as np\n",
                "import matplotlib.pyplot as plt\n",
                "import torch\n",
                "import torch.nn.functional as F\n",
                "from torch import nn\n",
                "from torch.optim import Adam\n",
                "from tqdm import tqdm\n",
                "import os\n",
                "from IPython.display import display, clear_output\n",
                "\n",
                "from utils import *"
            ]
        },
        {
            "cell_type": "code",
            "execution_count": 2,
            "metadata": {},
            "outputs": [
                {
                    "name": "stdout",
                    "output_type": "stream",
                    "text": [
                        "Using device: cpu\n"
                    ]
                }
            ],
            "source": [
                "CONFIG_TRAIN = {\n",
                "    \"antenna_config\": \"simo\",  # Antenna configuration\n",
                "    \"channel_model\": \"rayleigh\",  # Channel type\n",
                "    \"M\": 16,  # Number of constellation points\n",
                "    \"flag_train_model\": True,  # Flag to control training\n",
                "    \"training_snr\": 12,  # Training SNR (dB)\n",
                "}\n",
                "\n",
                "CONFIG_TRAIN[\"best_encoder_path\"] = (\n",
                "    f\"./model/{CONFIG_TRAIN['antenna_config']}_{CONFIG_TRAIN['channel_model']}_{CONFIG_TRAIN['M']}qam_best_encoder.pt\"\n",
                ")\n",
                "CONFIG_TRAIN[\"best_decoder_path\"] = (\n",
                "    f\"./model/{CONFIG_TRAIN['antenna_config']}_{CONFIG_TRAIN['channel_model']}_{CONFIG_TRAIN['M']}qam_best_decoder.pt\"\n",
                ")\n",
                "device = \"cuda\" if torch.cuda.is_available() else \"cpu\"\n",
                "print(f\"Using device: {device}\")"
            ]
        },
        {
            "cell_type": "code",
            "execution_count": 3,
            "metadata": {},
            "outputs": [],
            "source": [
                "encoder = Encoder([CONFIG_TRAIN[\"M\"], 64, 64, 2]).to(device)\n",
                "decoder = Decoder([8, 512, 512, CONFIG_TRAIN[\"M\"]]).to(device)"
            ]
        },
        {
            "cell_type": "code",
            "execution_count": 4,
            "metadata": {},
            "outputs": [],
            "source": [
                "def save_decoder(decoder, optimizer, loss):\n",
                "    \"\"\"\n",
                "    Save the model to a file.\n",
                "    - model_state_dict: the model state dictionary\n",
                "    - optimizer_state_dict: the optimizer state dictionary\n",
                "    - loss: the loss history\n",
                "    \"\"\"\n",
                "    torch.save(\n",
                "        {\n",
                "            \"model_state_dict\": decoder.state_dict(),\n",
                "            \"optimizer_state_dict\": optimizer.state_dict(),\n",
                "            \"loss\": loss,\n",
                "        },\n",
                "        CONFIG_TRAIN[\"best_decoder_path\"],\n",
                "    )\n",
                "\n",
                "\n",
                "def save_encoder(encoder, optimizer, loss):\n",
                "    \"\"\"\n",
                "    Save the model to a file.\n",
                "    - model_state_dict: the model state dictionary\n",
                "    - optimizer_state_dict: the optimizer state dictionary\n",
                "    - loss: the loss history\n",
                "    \"\"\"\n",
                "    torch.save(\n",
                "        {\n",
                "            \"model_state_dict\": encoder.state_dict(),\n",
                "            \"optimizer\": optimizer.state_dict(),\n",
                "            \"loss\": loss,\n",
                "        },\n",
                "        CONFIG_TRAIN[\"best_encoder_path\"],\n",
                "    )\n",
                "\n",
                "\n",
                "def train_model(\n",
                "    encoder, decoder, optimizer, max_iterations, loss_hist, num_messages, device\n",
                "):\n",
                "    \"\"\"\n",
                "    Train the encoder and decoder models over a specified number of iterations, handling noise and saving models when improved.\n",
                "\n",
                "    Args:\n",
                "        encoder (torch.nn.Module): The encoder part of the model.\n",
                "        decoder (torch.nn.Module): The decoder part of the model.\n",
                "        optimizer (torch.optim.Optimizer): Optimizer for both encoder and decoder.\n",
                "        max_iterations (int): Total number of iterations to train the models.\n",
                "        loss_hist (list): List to accumulate loss values over iterations for visualization.\n",
                "        num_messages (int): Number of messages to process in one iteration.\n",
                "        device (torch.device): The device (CPU/GPU) on which to run the training.\n",
                "\n",
                "    Raises:\n",
                "        KeyboardInterrupt: If the training is interrupted manually, save the models.\n",
                "    \"\"\"\n",
                "    criterion = nn.NLLLoss()  # negative log likelihood loss\n",
                "    best_loss = float(\"inf\")  # Initialize the best loss to infinity\n",
                "    try:\n",
                "        for iterator in tqdm(\n",
                "            range(len(loss_hist), max_iterations), desc=\"training process\"\n",
                "        ):\n",
                "            # generate random messages\n",
                "            messages = torch.randint(\n",
                "                0, CONFIG_TRAIN[\"M\"], size=(num_messages,), device=device\n",
                "            )\n",
                "            one_hot = F.one_hot(messages, CONFIG_TRAIN[\"M\"]).float()\n",
                "            tx = encoder(one_hot)\n",
                "            # Generate channel coefficients\n",
                "            ch_real1 = torch.randn(tx.shape[0]).to(device)\n",
                "            ch_imag1 = torch.randn(tx.shape[0]).to(device)\n",
                "            ch_real2 = torch.randn(tx.shape[0]).to(device)\n",
                "            ch_imag2 = torch.randn(tx.shape[0]).to(device)\n",
                "            csi = torch.stack((ch_real1, ch_imag1, ch_real2, ch_imag2), dim=1)\n",
                "\n",
                "            # Perform complex multiplication to simulate channel\n",
                "            rx_real1 = ch_real1 * tx[:, 0] - ch_imag1 * tx[:, 1]\n",
                "            rx_imag1 = ch_imag1 * tx[:, 0] + ch_real1 * tx[:, 1]\n",
                "            rx_real2 = ch_real2 * tx[:, 0] - ch_imag2 * tx[:, 1]\n",
                "            rx_imag2 = ch_imag2 * tx[:, 0] + ch_real2 * tx[:, 1]\n",
                "\n",
                "            # Stack real and imaginary parts to form received signal\n",
                "            rx = torch.stack((rx_real1, rx_imag1, rx_real2, rx_imag2), dim=1)\n",
                "\n",
                "            # Add AWGN noise\n",
                "            rx = additive_white_gaussian_noise_channel(rx, CONFIG_TRAIN[\"training_snr\"])\n",
                "\n",
                "            # Concatenate channel state information\n",
                "            rx_csi = torch.cat((rx, csi), dim=1)\n",
                "            y_pred_softmax = decoder(rx_csi)\n",
                "\n",
                "            loss = criterion(y_pred_softmax, messages)\n",
                "            optimizer.zero_grad()\n",
                "            loss.backward()\n",
                "            optimizer.step()\n",
                "            loss_hist.append(loss.item())\n",
                "\n",
                "            if loss.item() < best_loss:\n",
                "                best_loss = loss.item()\n",
                "                save_encoder(encoder, optimizer, loss_hist)\n",
                "                save_decoder(decoder, optimizer, loss_hist)\n",
                "\n",
                "            if (iterator % 100) == 0:\n",
                "                clear_output(wait=True)\n",
                "\n",
                "                # Print the accuracy\n",
                "                y_pred = torch.argmax(y_pred_softmax, dim=1)\n",
                "                SER = 1 - (messages == y_pred).float().mean()\n",
                "                print(f\"Iteration {iterator}: SER={SER:.2f}\")\n",
                "\n",
                "                # Plot the loss\n",
                "                plt.semilogy(loss_hist)\n",
                "                plt.xlabel(\"Iteration\")\n",
                "                plt.ylabel(\"Loss\")\n",
                "                plt.title(\"Training Loss\")\n",
                "                plt.show()\n",
                "        print(\"Training complete\")\n",
                "\n",
                "    except KeyboardInterrupt:\n",
                "        save_encoder(encoder, optimizer, loss_hist)\n",
                "        save_decoder(decoder, optimizer, loss_hist)\n",
                "        print(\"Training interrupted\")"
            ]
        },
        {
            "cell_type": "code",
            "execution_count": 5,
            "metadata": {},
            "outputs": [
                {
                    "name": "stdout",
                    "output_type": "stream",
                    "text": [
                        "Iteration 1900: SER=0.03\n"
                    ]
                },
                {
                    "data": {
                        "image/png": "[encoded data removed]",
                        "text/plain": [
                            "<Figure size 640x480 with 1 Axes>"
                        ]
                    },
                    "metadata": {},
                    "output_type": "display_data"
                },
                {
                    "name": "stderr",
                    "output_type": "stream",
                    "text": [
                        "training process: 100%|██████████| 2000/2000 [01:42<00:00, 19.60it/s]"
                    ]
                },
                {
                    "name": "stdout",
                    "output_type": "stream",
                    "text": [
                        "Training complete\n"
                    ]
                },
                {
                    "name": "stderr",
                    "output_type": "stream",
                    "text": [
                        "\n"
                    ]
                }
            ],
            "source": [
                "if CONFIG_TRAIN[\"flag_train_model\"]:\n",
                "    # check if there is a checkpoint to resume training\n",
                "    if os.path.exists(CONFIG_TRAIN[\"best_encoder_path\"]) and os.path.exists(\n",
                "        CONFIG_TRAIN[\"best_decoder_path\"]\n",
                "    ):\n",
                "        encoder_checkpoint = torch.load(\n",
                "            CONFIG_TRAIN[\"best_encoder_path\"], map_location=device\n",
                "        )\n",
                "        decoder_checkpoint = torch.load(\n",
                "            CONFIG_TRAIN[\"best_decoder_path\"], map_location=device\n",
                "        )\n",
                "        encoder.load_state_dict(encoder_checkpoint[\"model_state_dict\"])\n",
                "        decoder.load_state_dict(decoder_checkpoint[\"model_state_dict\"])\n",
                "\n",
                "    parameters = list(encoder.parameters()) + list(decoder.parameters())\n",
                "    optimizer = Adam(parameters, lr=0.01)\n",
                "\n",
                "    if os.path.exists(CONFIG_TRAIN[\"best_encoder_path\"]) and os.path.exists(\n",
                "        CONFIG_TRAIN[\"best_decoder_path\"]\n",
                "    ):\n",
                "        # optimizer.load_state_dict(checkpoint[\"optimizer\"])\n",
                "        loss_hist = encoder_checkpoint[\"loss\"]\n",
                "        print(f\"Resuming training from iterator {len(loss_hist)}\")\n",
                "    else:\n",
                "        loss_hist = []\n",
                "        print(\"Training from scratch\")\n",
                "\n",
                "    max_iterations = int(1e3)  # Total number of epochs to train\n",
                "    num_messages = int(1e4)  # Number of messages to use for training (batch size)\n",
                "    if max_iterations > len(loss_hist):\n",
                "        train_model(\n",
                "            encoder,\n",
                "            decoder,\n",
                "            optimizer,\n",
                "            max_iterations,\n",
                "            loss_hist,\n",
                "            num_messages,\n",
                "            device,\n",
                "        )\n",
                "    else:\n",
                "        print(\"training already completed\")\n",
                "else:\n",
                "    # check if there is a checkpoint to load the model\n",
                "    if os.path.exists(CONFIG_TRAIN[\"best_encoder_path\"]) and os.path.exists(\n",
                "        CONFIG_TRAIN[\"best_decoder_path\"]\n",
                "    ):\n",
                "\n",
                "        encoder_checkpoint = torch.load(\n",
                "            CONFIG_TRAIN[\"best_encoder_path\"], map_location=device\n",
                "        )\n",
                "        decoder_checkpoint = torch.load(\n",
                "            CONFIG_TRAIN[\"best_decoder_path\"], map_location=device\n",
                "        )\n",
                "        encoder.load_state_dict(encoder_checkpoint[\"model_state_dict\"])\n",
                "        decoder.load_state_dict(decoder_checkpoint[\"model_state_dict\"])\n",
                "        print(\"Model loaded. Training iterator: \", len(encoder_checkpoint[\"loss\"]))\n",
                "    else:\n",
                "        print(\n",
                "            \"Model not found, please set flag_train_model to True and train the model\"\n",
                "        )\n",
                "        exit(1)"
            ]
        },
        {
            "cell_type": "code",
            "execution_count": 6,
            "metadata": {},
            "outputs": [
                {
                    "data": {
                        "text/plain": [
                            "<All keys matched successfully>"
                        ]
                    },
                    "execution_count": 6,
                    "metadata": {},
                    "output_type": "execute_result"
                }
            ],
            "source": [
                "encoder_checkpoint = torch.load(CONFIG_TRAIN[\"best_encoder_path\"], map_location=device)\n",
                "decoder_checkpoint = torch.load(CONFIG_TRAIN[\"best_decoder_path\"], map_location=device)\n",
                "encoder.load_state_dict(encoder_checkpoint[\"model_state_dict\"])\n",
                "decoder.load_state_dict(decoder_checkpoint[\"model_state_dict\"])"
            ]
        },
        {
            "cell_type": "code",
            "execution_count": 7,
            "metadata": {},
            "outputs": [
                {
                    "name": "stderr",
                    "output_type": "stream",
                    "text": [
                        "simulation process: 100%|██████████| 11/11 [00:23<00:00,  2.10s/it]\n"
                    ]
                }
            ],
            "source": [
                "SNR_dB = np.arange(0, 18, 2)\n",
                "SER = np.array([])\n",
                "iteration = tqdm(range(len(SNR_dB)), desc=\"simulation process\")\n",
                "for iterator in iteration:\n",
                "    snr = SNR_dB[iterator]\n",
                "    num_mess = 6400  # number of messages to test\n",
                "    minErr = 1  # minimum number of errors\n",
                "    minSym = 1e6  # minimum number of symbols\n",
                "    totSym = 0  # total number of symbols\n",
                "    totErr = 0  # total number of errors\n",
                "    while totErr < minErr or totSym < minSym:\n",
                "        messages = torch.randint(0, CONFIG_TRAIN[\"M\"], size=(num_mess,)).to(device)\n",
                "        one_hot = F.one_hot(messages).float()\n",
                "        tx = encoder(one_hot)\n",
                "        ch_real1 = torch.randn(tx.shape[0]).to(device)\n",
                "        ch_imag1 = torch.randn(tx.shape[0]).to(device)\n",
                "        ch_real2 = torch.randn(tx.shape[0]).to(device)\n",
                "        ch_imag2 = torch.randn(tx.shape[0]).to(device)\n",
                "        csi = torch.stack((ch_real1, ch_imag1, ch_real2, ch_imag2), dim=1)\n",
                "        rx_real1 = torch.mul(ch_real1, tx[:, 0]) - torch.mul(ch_imag1, tx[:, 1])\n",
                "        rx_imag1 = torch.mul(ch_imag1, tx[:, 0]) + torch.mul(ch_real1, tx[:, 1])\n",
                "        rx_real2 = torch.mul(ch_real2, tx[:, 0]) - torch.mul(ch_imag2, tx[:, 1])\n",
                "        rx_imag2 = torch.mul(ch_imag2, tx[:, 0]) + torch.mul(ch_real2, tx[:, 1])\n",
                "        rx = torch.stack((rx_real1, rx_imag1, rx_real2, rx_imag2), dim=1)\n",
                "        rx = additive_white_gaussian_noise_channel(rx, snr)\n",
                "        rx_csi = torch.cat((rx, csi), dim=1)\n",
                "\n",
                "        y_pred_softmax = decoder(rx_csi)\n",
                "\n",
                "        y_pred = torch.argmax(y_pred_softmax, -1)\n",
                "\n",
                "        err = torch.sum(torch.not_equal(messages, y_pred)).to(\"cpu\").detach().numpy()\n",
                "\n",
                "        totErr += err\n",
                "        totSym += num_mess\n",
                "    SER = np.append(SER, totErr / totSym)\n",
                "\n",
                "# plot the SER-SNR curve\n",
                "plt.figure()\n",
                "plt.xlabel(\"SNR (dB)\")\n",
                "plt.ylabel(\"SER\")\n",
                "plt.semilogy(\n",
                "    SNR_dB, SER, \"-*\", label=\"SIMO_AE_GS_{}QAM_Rayleigh\".format(CONFIG_TRAIN[\"M\"])\n",
                ")\n",
                "plt.legend()\n",
                "plt.grid(True)"
            ]
        },
        {
            "cell_type": "code",
            "execution_count": 9,
            "metadata": {},
            "outputs": [
                {
                    "data": {
                        "image/png": "[encoded data removed]",
                        "text/plain": [
                            "<Figure size 1000x500 with 2 Axes>"
                        ]
                    },
                    "metadata": {},
                    "output_type": "display_data"
                }
            ],
            "source": [
                "# Generate transmitted symbols using the encoder\n",
                "num_mess = 6400  # number of messages to test\n",
                "messages = torch.randint(0, CONFIG_TRAIN[\"M\"], size=(num_mess,)).to(device)\n",
                "one_hot = F.one_hot(messages).float()\n",
                "tx = encoder(one_hot)\n",
                "tx = tx.to(\"cpu\").detach().numpy()\n",
                "\n",
                "# Define the coordinates for 16-QAM constellation points\n",
                "points_I = np.array([1, 1, 1, 1, -1, -1, -1, -1, 3, 3, 3, 3, -3, -3, -3, -3]) / np.sqrt(\n",
                "    10\n",
                ")\n",
                "points_Q = np.array([3, 1, -1, -3, 3, 1, -1, -3, 3, 1, -1, -3, 3, 1, -1, -3]) / np.sqrt(\n",
                "    10\n",
                ")\n",
                "\n",
                "# Plot both constellations\n",
                "plt.figure(figsize=(10, 5))\n",
                "\n",
                "# Plot transmitted symbols\n",
                "plt.subplot(1, 2, 1)\n",
                "plt.scatter(tx[:, 0], tx[:, 1])\n",
                "plt.xlabel(\"I\")\n",
                "plt.ylabel(\"Q\")\n",
                "plt.title(\"Transmitted Constellation\")\n",
                "plt.grid(True)\n",
                "\n",
                "# Plot standard 16-QAM constellation\n",
                "plt.subplot(1, 2, 2)\n",
                "plt.scatter(points_I, points_Q, c=\"r\")\n",
                "plt.xlabel(\"I\")\n",
                "plt.ylabel(\"Q\")\n",
                "plt.title(\"Standard 16-QAM Constellation\")\n",
                "plt.grid(True)\n",
                "\n",
                "plt.tight_layout()\n",
                "plt.show()"
            ]
        }
    ],
    "metadata": {
        "kernelspec": {
            "display_name": "torch",
            "language": "python",
            "name": "python3"
        },
        "language_info": {
            "codemirror_mode": {
                "name": "ipython",
                "version": 3
            },
            "file_extension": ".py",
            "mimetype": "text/x-python",
            "name": "python",
            "nbconvert_exporter": "python",
            "pygments_lexer": "ipython3",
            "version": "3.9.18"
        }
    },
    "nbformat": 4,
    "nbformat_minor": 2
}
